{
 "cells": [
  {
   "cell_type": "code",
   "execution_count": 191,
   "metadata": {},
   "outputs": [],
   "source": [
    "import numpy as np\n",
    "import pandas as pd\n",
    "import matplotlib.pyplot as plt\n",
    "import seaborn as sns\n",
    "from sklearn.model_selection import train_test_split, GridSearchCV, \\\n",
    "  PredefinedSplit\n",
    "from sklearn.preprocessing import Imputer, LabelEncoder, OneHotEncoder\n",
    "from collections import defaultdict\n",
    "from sklearn.feature_selection import SelectKBest, SelectPercentile, chi2, \\\n",
    "  f_classif, f_regression\n",
    "from sklearn.tree import DecisionTreeClassifier, export_graphviz, \\\n",
    "  DecisionTreeRegressor\n",
    "from sklearn.ensemble import GradientBoostingClassifier, GradientBoostingRegressor\n",
    "from sklearn.metrics import accuracy_score, roc_auc_score, f1_score, \\\n",
    "  roc_curve, r2_score, mean_squared_error, recall_score\n",
    "from pydotplus import graph_from_dot_data\n",
    "import graphviz\n",
    "import gc"
   ]
  },
  {
   "cell_type": "code",
   "execution_count": 198,
   "metadata": {},
   "outputs": [],
   "source": [
    "java_data= pd.read_excel('C:/Users/HP/Desktop/honors project/cleaned data/51java-xlsx (5).xlsx')"
   ]
  },
  {
   "cell_type": "code",
   "execution_count": 199,
   "metadata": {
    "scrolled": true
   },
   "outputs": [
    {
     "name": "stdout",
     "output_type": "stream",
     "text": [
      "       joblocation_num    Internship     education    experience  \\\n",
      "count     10253.000000  10253.000000  10253.000000  10253.000000   \n",
      "mean          2.057739      0.028479      1.270457      2.766995   \n",
      "std           0.981780      0.166346      0.521581      1.608307   \n",
      "min           1.000000      0.000000      0.000000      0.000000   \n",
      "25%           1.000000      0.000000      1.000000      2.000000   \n",
      "50%           2.000000      0.000000      1.000000      3.000000   \n",
      "75%           3.000000      0.000000      2.000000      3.000000   \n",
      "max           4.000000      1.000000      3.000000      8.000000   \n",
      "\n",
      "       salary_grade  company_style  company_scale  job_industry  \\\n",
      "count  10253.000000   10253.000000   10253.000000  10253.000000   \n",
      "mean       0.225105       1.802692       2.848142      5.345460   \n",
      "std        0.417672       1.517290       1.455832      3.651231   \n",
      "min        0.000000       1.000000       1.000000      1.000000   \n",
      "25%        0.000000       1.000000       2.000000      3.000000   \n",
      "50%        0.000000       1.000000       3.000000      4.000000   \n",
      "75%        0.000000       2.000000       4.000000      7.000000   \n",
      "max        1.000000       8.000000       7.000000     13.000000   \n",
      "\n",
      "       job_classification  \n",
      "count        10253.000000  \n",
      "mean             4.968009  \n",
      "std              1.815621  \n",
      "min              1.000000  \n",
      "25%              3.000000  \n",
      "50%              5.000000  \n",
      "75%              6.000000  \n",
      "max             10.000000  \n"
     ]
    }
   ],
   "source": [
    "print(java_data.describe(include = 'all'))"
   ]
  },
  {
   "cell_type": "code",
   "execution_count": 200,
   "metadata": {},
   "outputs": [
    {
     "name": "stdout",
     "output_type": "stream",
     "text": [
      "(10253, 9)\n"
     ]
    }
   ],
   "source": [
    "print(java_data.shape)"
   ]
  },
  {
   "cell_type": "code",
   "execution_count": 201,
   "metadata": {},
   "outputs": [
    {
     "data": {
      "text/plain": [
       "<Figure size 2016x1512 with 0 Axes>"
      ]
     },
     "metadata": {},
     "output_type": "display_data"
    }
   ],
   "source": [
    "fig = plt.figure(figsize=(28,21))"
   ]
  },
  {
   "cell_type": "code",
   "execution_count": 202,
   "metadata": {},
   "outputs": [
    {
     "data": {
      "image/png": "[encoded data removed]",
      "text/plain": [
       "<Figure size 432x288 with 1 Axes>"
      ]
     },
     "metadata": {},
     "output_type": "display_data"
    }
   ],
   "source": [
    "fig = plt.figure()\n",
    "plt.hist(java_data['salary_grade'],bins=20)\n",
    "plt.show()\n"
   ]
  },
  {
   "cell_type": "code",
   "execution_count": 203,
   "metadata": {},
   "outputs": [],
   "source": [
    "X = java_data.drop('salary_grade',axis=1) \n",
    "y = (java_data['salary_grade'] == 1).astype(np.int32)\n",
    "train_X,test_X,train_y,test_y=train_test_split(X,y,test_size=0.25, random_state = 125)\n"
   ]
  },
  {
   "cell_type": "code",
   "execution_count": 204,
   "metadata": {},
   "outputs": [],
   "source": [
    "features=['joblocation_num','Internship','education','experience','company_style','company_scale','job_industry','job_classification']"
   ]
  },
  {
   "cell_type": "code",
   "execution_count": 206,
   "metadata": {},
   "outputs": [
    {
     "name": "stdout",
     "output_type": "stream",
     "text": [
      "              feature        score\n",
      "3          experience  1836.602122\n",
      "0     joblocation_num   778.358154\n",
      "1          Internship   714.775007\n",
      "2           education   136.766268\n",
      "5       company_scale    75.665750\n",
      "7  job_classification    46.492079\n",
      "6        job_industry    38.261838\n",
      "4       company_style    15.721116\n"
     ]
    }
   ],
   "source": [
    "sp = SelectPercentile(f_classif, 90)\n",
    "sp.fit(train_X, train_y)\n",
    "scores=pd.DataFrame({'feature':np.array(features), 'score':sp.scores_})\n",
    "scores.sort_values(\"score\", ascending = False, inplace=True)\n",
    "print(scores)\n"
   ]
  },
  {
   "cell_type": "code",
   "execution_count": 207,
   "metadata": {},
   "outputs": [
    {
     "name": "stdout",
     "output_type": "stream",
     "text": [
      "(7689, 7)\n",
      "(2564, 7)\n"
     ]
    }
   ],
   "source": [
    "train_X = sp.transform(train_X)\n",
    "test_X = sp.transform(test_X)\n",
    "print(train_X.shape)\n",
    "## (2099, 30)\n",
    "print(test_X.shape)\n",
    "## (900, 30)"
   ]
  },
  {
   "cell_type": "code",
   "execution_count": 220,
   "metadata": {},
   "outputs": [
    {
     "name": "stdout",
     "output_type": "stream",
     "text": [
      "DecisionTreeClassifier(class_weight=None, criterion='gini', max_depth=5,\n",
      "            max_features=None, max_leaf_nodes=None,\n",
      "            min_impurity_decrease=0.001, min_impurity_split=None,\n",
      "            min_samples_leaf=1, min_samples_split=2,\n",
      "            min_weight_fraction_leaf=0.0, presort=False, random_state=None,\n",
      "            splitter='best')\n"
     ]
    },
    {
     "name": "stderr",
     "output_type": "stream",
     "text": [
      "C:\\Users\\HP\\Anaconda3\\lib\\site-packages\\sklearn\\utils\\deprecation.py:122: FutureWarning: You are accessing a training score ('split0_train_score'), which will not be available by default any more in 0.21. If you need training scores, please set return_train_score=True\n",
      "  warnings.warn(*warn_args, **warn_kwargs)\n",
      "C:\\Users\\HP\\Anaconda3\\lib\\site-packages\\sklearn\\utils\\deprecation.py:122: FutureWarning: You are accessing a training score ('split1_train_score'), which will not be available by default any more in 0.21. If you need training scores, please set return_train_score=True\n",
      "  warnings.warn(*warn_args, **warn_kwargs)\n",
      "C:\\Users\\HP\\Anaconda3\\lib\\site-packages\\sklearn\\utils\\deprecation.py:122: FutureWarning: You are accessing a training score ('split2_train_score'), which will not be available by default any more in 0.21. If you need training scores, please set return_train_score=True\n",
      "  warnings.warn(*warn_args, **warn_kwargs)\n",
      "C:\\Users\\HP\\Anaconda3\\lib\\site-packages\\sklearn\\utils\\deprecation.py:122: FutureWarning: You are accessing a training score ('mean_train_score'), which will not be available by default any more in 0.21. If you need training scores, please set return_train_score=True\n",
      "  warnings.warn(*warn_args, **warn_kwargs)\n",
      "C:\\Users\\HP\\Anaconda3\\lib\\site-packages\\sklearn\\utils\\deprecation.py:122: FutureWarning: You are accessing a training score ('std_train_score'), which will not be available by default any more in 0.21. If you need training scores, please set return_train_score=True\n",
      "  warnings.warn(*warn_args, **warn_kwargs)\n"
     ]
    }
   ],
   "source": [
    "clf = DecisionTreeClassifier()\n",
    "param_grid = {'max_depth': [3,4,5], 'min_impurity_decrease': [0.001,0.003]}\n",
    "gs = GridSearchCV(clf, param_grid, 'roc_auc', cv = 3)\n",
    "gs.fit(train_X, train_y)\n",
    "cv_results = pd.DataFrame(gs.cv_results_)\n",
    "print(gs.best_estimator_)"
   ]
  },
  {
   "cell_type": "code",
   "execution_count": 221,
   "metadata": {},
   "outputs": [
    {
     "data": {
      "image/png": "[encoded data removed]",
      "text/plain": [
       "<Figure size 432x288 with 1 Axes>"
      ]
     },
     "metadata": {},
     "output_type": "display_data"
    }
   ],
   "source": [
    "fig, ax = plt.subplots()\n",
    "grouped = cv_results.groupby('param_min_impurity_decrease')\n",
    "for key, group in grouped:\n",
    "    group.plot(ax=ax, x='param_max_depth', y='mean_test_score', label=key)\n",
    "plt.show()"
   ]
  },
  {
   "cell_type": "code",
   "execution_count": 222,
   "metadata": {},
   "outputs": [
    {
     "data": {
      "text/plain": [
       "DecisionTreeClassifier(class_weight=None, criterion='gini', max_depth=5,\n",
       "            max_features=None, max_leaf_nodes=None,\n",
       "            min_impurity_decrease=0.001, min_impurity_split=None,\n",
       "            min_samples_leaf=1, min_samples_split=2,\n",
       "            min_weight_fraction_leaf=0.0, presort=False, random_state=None,\n",
       "            splitter='best')"
      ]
     },
     "execution_count": 222,
     "metadata": {},
     "output_type": "execute_result"
    }
   ],
   "source": [
    "clf = gs.best_estimator_\n",
    "clf.fit(train_X, train_y)"
   ]
  },
  {
   "cell_type": "code",
   "execution_count": 223,
   "metadata": {},
   "outputs": [
    {
     "data": {
      "image/png": "[encoded data removed]",
      "text/plain": [
       "<Figure size 432x288 with 1 Axes>"
      ]
     },
     "metadata": {},
     "output_type": "display_data"
    }
   ],
   "source": [
    "dot_data = export_graphviz(clf, out_file=None, max_depth=5,  \n",
    "                           feature_names=np.array(features)[sp.get_support()].tolist(), \n",
    "                           class_names=['medium','low'],\n",
    "                           filled=True, rounded=True)\n",
    "graph = graph_from_dot_data(dot_data)\n",
    "graph.write_png('tree.png') \n",
    "img = plt.imread('tree.png')\n",
    "fig = plt.figure()\n",
    "plt.imshow(img)\n",
    "plt.axis('off')\n",
    "plt.show()"
   ]
  },
  {
   "cell_type": "code",
   "execution_count": 216,
   "metadata": {},
   "outputs": [
    {
     "name": "stdout",
     "output_type": "stream",
     "text": [
      "0.8389235569422777\n",
      "0.8460945386333467\n",
      "0.5711318795430944\n"
     ]
    },
    {
     "data": {
      "image/png": "[encoded data removed]",
      "text/plain": [
       "<Figure size 432x288 with 1 Axes>"
      ]
     },
     "metadata": {},
     "output_type": "display_data"
    }
   ],
   "source": [
    "predict_y = clf.predict(test_X)\n",
    "probas_y = clf.predict_proba(test_X)\n",
    "print(accuracy_score(test_y, predict_y))\n",
    "## 0.9\n",
    "print(roc_auc_score(test_y, probas_y[:, 1]))\n",
    "## 0.8577739501109058\n",
    "print(f1_score(test_y, predict_y))\n",
    "## 0.4642857142857143\n",
    "fpr, tpr, thresholds = roc_curve(test_y, probas_y[:, 1])\n",
    "plt.figure()\n",
    "plt.plot(fpr, tpr)\n",
    "plt.plot([0,1], [0,1], linestyle='--')\n",
    "plt.xlabel('False Positive Rate')\n",
    "plt.ylabel('True Positive Rate')\n",
    "plt.show()"
   ]
  }
 ],
 "metadata": {
  "kernelspec": {
   "display_name": "Python 3",
   "language": "python",
   "name": "python3"
  },
  "language_info": {
   "codemirror_mode": {
    "name": "ipython",
    "version": 3
   },
   "file_extension": ".py",
   "mimetype": "text/x-python",
   "name": "python",
   "nbconvert_exporter": "python",
   "pygments_lexer": "ipython3",
   "version": "3.6.5"
  }
 },
 "nbformat": 4,
 "nbformat_minor": 2
}
